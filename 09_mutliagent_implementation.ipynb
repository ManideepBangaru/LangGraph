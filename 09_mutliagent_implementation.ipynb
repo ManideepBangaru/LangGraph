{
 "cells": [
  {
   "cell_type": "code",
   "execution_count": 41,
   "metadata": {},
   "outputs": [],
   "source": [
    "from langchain_experimental.agents import create_pandas_dataframe_agent\n",
    "from langchain_core.tools import Tool\n",
    "from langchain.agents.agent_types import AgentType\n",
    "from langchain_openai import ChatOpenAI\n",
    "import pandas as pd"
   ]
  },
  {
   "cell_type": "code",
   "execution_count": 42,
   "metadata": {},
   "outputs": [
    {
     "data": {
      "text/html": [
       "<div>\n",
       "<style scoped>\n",
       "    .dataframe tbody tr th:only-of-type {\n",
       "        vertical-align: middle;\n",
       "    }\n",
       "\n",
       "    .dataframe tbody tr th {\n",
       "        vertical-align: top;\n",
       "    }\n",
       "\n",
       "    .dataframe thead th {\n",
       "        text-align: right;\n",
       "    }\n",
       "</style>\n",
       "<table border=\"1\" class=\"dataframe\">\n",
       "  <thead>\n",
       "    <tr style=\"text-align: right;\">\n",
       "      <th></th>\n",
       "      <th>original_title</th>\n",
       "      <th>release_date</th>\n",
       "      <th>collection</th>\n",
       "      <th>genres</th>\n",
       "    </tr>\n",
       "  </thead>\n",
       "  <tbody>\n",
       "    <tr>\n",
       "      <th>0</th>\n",
       "      <td>Toy Story</td>\n",
       "      <td>1995-10-30</td>\n",
       "      <td>Toy Story Collection</td>\n",
       "      <td>['Animation', 'Comedy', 'Family']</td>\n",
       "    </tr>\n",
       "    <tr>\n",
       "      <th>1</th>\n",
       "      <td>Jumanji</td>\n",
       "      <td>1995-12-15</td>\n",
       "      <td>NaN</td>\n",
       "      <td>['Adventure', 'Fantasy', 'Family']</td>\n",
       "    </tr>\n",
       "    <tr>\n",
       "      <th>2</th>\n",
       "      <td>Grumpier Old Men</td>\n",
       "      <td>1995-12-22</td>\n",
       "      <td>Grumpy Old Men Collection</td>\n",
       "      <td>['Romance', 'Comedy']</td>\n",
       "    </tr>\n",
       "    <tr>\n",
       "      <th>3</th>\n",
       "      <td>Waiting to Exhale</td>\n",
       "      <td>1995-12-22</td>\n",
       "      <td>NaN</td>\n",
       "      <td>['Comedy', 'Drama', 'Romance']</td>\n",
       "    </tr>\n",
       "    <tr>\n",
       "      <th>4</th>\n",
       "      <td>Father of the Bride Part II</td>\n",
       "      <td>1995-02-10</td>\n",
       "      <td>Father of the Bride Collection</td>\n",
       "      <td>['Comedy']</td>\n",
       "    </tr>\n",
       "  </tbody>\n",
       "</table>\n",
       "</div>"
      ],
      "text/plain": [
       "                original_title release_date                      collection  \\\n",
       "0                    Toy Story   1995-10-30            Toy Story Collection   \n",
       "1                      Jumanji   1995-12-15                             NaN   \n",
       "2             Grumpier Old Men   1995-12-22       Grumpy Old Men Collection   \n",
       "3            Waiting to Exhale   1995-12-22                             NaN   \n",
       "4  Father of the Bride Part II   1995-02-10  Father of the Bride Collection   \n",
       "\n",
       "                               genres  \n",
       "0   ['Animation', 'Comedy', 'Family']  \n",
       "1  ['Adventure', 'Fantasy', 'Family']  \n",
       "2               ['Romance', 'Comedy']  \n",
       "3      ['Comedy', 'Drama', 'Romance']  \n",
       "4                          ['Comedy']  "
      ]
     },
     "execution_count": 42,
     "metadata": {},
     "output_type": "execute_result"
    }
   ],
   "source": [
    "# Step 1: Create a DataFrame\n",
    "df = pd.read_csv(\"movies_meta.csv\")\n",
    "df.head()"
   ]
  },
  {
   "cell_type": "code",
   "execution_count": 43,
   "metadata": {},
   "outputs": [],
   "source": [
    "# initialize llm model\n",
    "llm_model = ChatOpenAI(\n",
    "    model=\"gpt-4o-mini\",\n",
    "    temperature=0\n",
    ")\n"
   ]
  },
  {
   "cell_type": "code",
   "execution_count": 44,
   "metadata": {},
   "outputs": [],
   "source": [
    "# Step 2: Define the Pandas DataFrame Tool\n",
    "def pandas_agent_tool(input_query: str) -> str:\n",
    "    llm = llm_model\n",
    "    pandas_agent = create_pandas_dataframe_agent(\n",
    "        llm, \n",
    "        df=df,\n",
    "        allow_dangerous_code=True,\n",
    "        agent_type=AgentType.OPENAI_FUNCTIONS,\n",
    "        verbose=False)\n",
    "    response = pandas_agent.invoke({\n",
    "        \"input\": input_query,\n",
    "        \"agent_scratchpad\": f\"Human: {input_query}\\nAI: To answer this question, I need to use Python to analyze the dataframe. I'll use the python_repl_ast tool.\\n\\nAction: python_repl_ast\\nAction Input: \",\n",
    "    })\n",
    "    return response\n",
    "\n",
    "pandas_tool = Tool(\n",
    "    name=\"PandasAgentTool\",\n",
    "    func=pandas_agent_tool,\n",
    "    description=\"Useful for answering questions about a pandas DataFrame.\"\n",
    ")"
   ]
  },
  {
   "cell_type": "code",
   "execution_count": 45,
   "metadata": {},
   "outputs": [],
   "source": [
    "# Step 3: Define the Multiplication Tool\n",
    "def multiply_values(input_query: str) -> str:\n",
    "    try:\n",
    "        # Parse the input (e.g., \"5 * 3\")\n",
    "        values = [float(x.strip()) for x in input_query.split(\"*\")]\n",
    "        result = values[0] * values[1]\n",
    "        return f\"The result of multiplication is {result}.\"\n",
    "    except Exception as e:\n",
    "        return f\"Error in multiplication: {e}\"\n",
    "\n",
    "multiplication_tool = Tool(\n",
    "    name=\"MultiplicationTool\",\n",
    "    func=multiply_values,\n",
    "    description=\"Useful for performing multiplication of two values. Input format: 'a * b'.\"\n",
    ")"
   ]
  },
  {
   "cell_type": "code",
   "execution_count": 46,
   "metadata": {},
   "outputs": [],
   "source": [
    "# Step 4: Create the LangGraph\n",
    "tools = [pandas_tool, multiplication_tool]\n",
    "\n",
    "llm_with_tools = llm_model.bind_tools(tools)"
   ]
  },
  {
   "cell_type": "code",
   "execution_count": 47,
   "metadata": {},
   "outputs": [],
   "source": [
    "from langgraph.graph import MessagesState\n",
    "from langchain_core.messages import AIMessage, HumanMessage, SystemMessage\n",
    "\n",
    "# System message\n",
    "sys_msg = SystemMessage(content=\"You are a helpful assistant tasked with performing arithmetic on a set of inputs.\")\n",
    "\n",
    "# Node\n",
    "def assistant(state: MessagesState):\n",
    "   return {\"messages\": [llm_with_tools.invoke([sys_msg] + state[\"messages\"])]}"
   ]
  },
  {
   "cell_type": "code",
   "execution_count": 48,
   "metadata": {},
   "outputs": [
    {
     "data": {
      "image/png": "[encoded data removed]",
      "text/plain": [
       "<IPython.core.display.Image object>"
      ]
     },
     "metadata": {},
     "output_type": "display_data"
    }
   ],
   "source": [
    "from langgraph.graph import START, StateGraph\n",
    "from langgraph.prebuilt import tools_condition, ToolNode\n",
    "from IPython.display import Image, display\n",
    "\n",
    "# Graph\n",
    "builder = StateGraph(MessagesState)\n",
    "\n",
    "# Define nodes: these do the work\n",
    "builder.add_node(\"assistant\", assistant)\n",
    "builder.add_node(\"tools\", ToolNode(tools))\n",
    "\n",
    "# Define edges: these determine how the control flow moves\n",
    "builder.add_edge(START, \"assistant\")\n",
    "builder.add_conditional_edges(\n",
    "    \"assistant\",\n",
    "    # If the latest message (result) from assistant is a tool call -> tools_condition routes to tools\n",
    "    # If the latest message (result) from assistant is a not a tool call -> tools_condition routes to END\n",
    "    tools_condition,\n",
    ")\n",
    "builder.add_edge(\"tools\", \"assistant\")\n",
    "react_graph = builder.compile()\n",
    "\n",
    "# Show\n",
    "display(Image(react_graph.get_graph(xray=True).draw_mermaid_png()))"
   ]
  },
  {
   "cell_type": "code",
   "execution_count": 49,
   "metadata": {},
   "outputs": [
    {
     "name": "stdout",
     "output_type": "stream",
     "text": [
      "================================\u001b[1m Human Message \u001b[0m=================================\n",
      "\n",
      "multiply 3*4\n",
      "==================================\u001b[1m Ai Message \u001b[0m==================================\n",
      "Tool Calls:\n",
      "  MultiplicationTool (call_gDFbbSQ9os3zU4O7bNp2HFSB)\n",
      " Call ID: call_gDFbbSQ9os3zU4O7bNp2HFSB\n",
      "  Args:\n",
      "    __arg1: 3 * 4\n",
      "=================================\u001b[1m Tool Message \u001b[0m=================================\n",
      "Name: MultiplicationTool\n",
      "\n",
      "The result of multiplication is 12.0.\n",
      "==================================\u001b[1m Ai Message \u001b[0m==================================\n",
      "\n",
      "The result of multiplying 3 by 4 is 12.\n"
     ]
    }
   ],
   "source": [
    "messages = [HumanMessage(content=\"multiply 3*4\")]\n",
    "messages = react_graph.invoke({\"messages\": messages})\n",
    "for m in messages[\"messages\"]:\n",
    "    m.pretty_print()"
   ]
  },
  {
   "cell_type": "code",
   "execution_count": 50,
   "metadata": {},
   "outputs": [
    {
     "name": "stdout",
     "output_type": "stream",
     "text": [
      "================================\u001b[1m Human Message \u001b[0m=================================\n",
      "\n",
      "What are the available attributes in dataset\n",
      "==================================\u001b[1m Ai Message \u001b[0m==================================\n",
      "Tool Calls:\n",
      "  PandasAgentTool (call_a6zGqkyyleu6vKXFFWiaGd08)\n",
      " Call ID: call_a6zGqkyyleu6vKXFFWiaGd08\n",
      "  Args:\n",
      "    __arg1: available attributes in dataset\n",
      "=================================\u001b[1m Tool Message \u001b[0m=================================\n",
      "Name: PandasAgentTool\n",
      "\n",
      "{\"input\": \"available attributes in dataset\", \"agent_scratchpad\": \"Human: available attributes in dataset\\nAI: To answer this question, I need to use Python to analyze the dataframe. I'll use the python_repl_ast tool.\\n\\nAction: python_repl_ast\\nAction Input: \", \"output\": \"The available attributes in the dataset are:\\n\\n1. `original_title`\\n2. `release_date`\\n3. `collection`\\n4. `genres`\"}\n",
      "==================================\u001b[1m Ai Message \u001b[0m==================================\n",
      "\n",
      "The available attributes in the dataset are:\n",
      "\n",
      "1. `original_title`\n",
      "2. `release_date`\n",
      "3. `collection`\n",
      "4. `genres`\n"
     ]
    }
   ],
   "source": [
    "messages = [HumanMessage(content=\"What are the available attributes in dataset\")]\n",
    "messages = react_graph.invoke({\"messages\": messages})\n",
    "for m in messages[\"messages\"]:\n",
    "    m.pretty_print()"
   ]
  },
  {
   "cell_type": "code",
   "execution_count": 51,
   "metadata": {},
   "outputs": [
    {
     "name": "stdout",
     "output_type": "stream",
     "text": [
      "================================\u001b[1m Human Message \u001b[0m=================================\n",
      "\n",
      "list down all the movies from collection Toy story\n",
      "==================================\u001b[1m Ai Message \u001b[0m==================================\n",
      "Tool Calls:\n",
      "  PandasAgentTool (call_ui6jWsOTw2J8UBwyQv6kY0aS)\n",
      " Call ID: call_ui6jWsOTw2J8UBwyQv6kY0aS\n",
      "  Args:\n",
      "    __arg1: Toy Story\n",
      "=================================\u001b[1m Tool Message \u001b[0m=================================\n",
      "Name: PandasAgentTool\n",
      "\n",
      "{\"input\": \"Toy Story\", \"agent_scratchpad\": \"Human: Toy Story\\nAI: To answer this question, I need to use Python to analyze the dataframe. I'll use the python_repl_ast tool.\\n\\nAction: python_repl_ast\\nAction Input: \", \"output\": \"\\\"Toy Story\\\" is a 1995 animated film produced by Pixar Animation Studios and released by Walt Disney Pictures. It was the first entirely computer-animated feature film and is widely regarded as a groundbreaking achievement in animation. The film follows the story of a group of toys that come to life when humans are not around, focusing on the friendship between Woody, a pull-string cowboy doll, and Buzz Lightyear, a space ranger action figure.\\n\\nIf you have specific questions or need information about \\\"Toy Story,\\\" feel free to ask!\"}\n",
      "==================================\u001b[1m Ai Message \u001b[0m==================================\n",
      "\n",
      "The \"Toy Story\" collection includes the following movies:\n",
      "\n",
      "1. **Toy Story** (1995)\n",
      "2. **Toy Story 2** (1999)\n",
      "3. **Toy Story 3** (2010)\n",
      "4. **Toy Story 4** (2019)\n",
      "\n",
      "These films follow the adventures of Woody, Buzz Lightyear, and their friends, exploring themes of friendship, loyalty, and growing up.\n"
     ]
    }
   ],
   "source": [
    "messages = [HumanMessage(content=\"list down all the movies from collection Toy story\")]\n",
    "messages = react_graph.invoke({\"messages\": messages})\n",
    "for m in messages[\"messages\"]:\n",
    "    m.pretty_print()"
   ]
  },
  {
   "cell_type": "code",
   "execution_count": 52,
   "metadata": {},
   "outputs": [
    {
     "name": "stdout",
     "output_type": "stream",
     "text": [
      "================================\u001b[1m Human Message \u001b[0m=================================\n",
      "\n",
      "give me product of 5 and 4\n",
      "==================================\u001b[1m Ai Message \u001b[0m==================================\n",
      "Tool Calls:\n",
      "  MultiplicationTool (call_1xdegWjS7fUjSobs5tq0edJb)\n",
      " Call ID: call_1xdegWjS7fUjSobs5tq0edJb\n",
      "  Args:\n",
      "    __arg1: 5 * 4\n",
      "=================================\u001b[1m Tool Message \u001b[0m=================================\n",
      "Name: MultiplicationTool\n",
      "\n",
      "The result of multiplication is 20.0.\n",
      "==================================\u001b[1m Ai Message \u001b[0m==================================\n",
      "\n",
      "The product of 5 and 4 is 20.\n"
     ]
    }
   ],
   "source": [
    "messages = [HumanMessage(content=\"give me product of 5 and 4\")]\n",
    "messages = react_graph.invoke({\"messages\": messages})\n",
    "for m in messages[\"messages\"]:\n",
    "    m.pretty_print()"
   ]
  },
  {
   "cell_type": "code",
   "execution_count": 56,
   "metadata": {},
   "outputs": [
    {
     "data": {
      "application/vnd.plotly.v1+json": {
       "config": {
        "plotlyServerURL": "https://plot.ly"
       },
       "data": [
        {
         "alignmentgroup": "True",
         "hovertemplate": "Year=%{x}<br>Number of Movies=%{y}<extra></extra>",
         "legendgroup": "",
         "marker": {
          "color": "#636efa",
          "pattern": {
           "shape": ""
          }
         },
         "name": "",
         "offsetgroup": "",
         "orientation": "v",
         "showlegend": false,
         "textposition": "auto",
         "type": "bar",
         "x": [
          2014,
          2015,
          2013,
          2012,
          2011,
          2016,
          2009,
          2010,
          2008,
          2007,
          2006,
          2005,
          2004,
          2002,
          2003,
          2001,
          2000,
          1999,
          1998,
          1997,
          1996,
          1995,
          1994,
          2017,
          1993,
          1988,
          1987,
          1992,
          1989,
          1990,
          1991,
          1986,
          1972,
          1971,
          1982,
          1985,
          1984,
          1980,
          1981,
          1973,
          1983,
          1970,
          1974,
          1979,
          1968,
          1977,
          1976,
          1975,
          1978,
          1966,
          1969,
          1967,
          1964,
          1965,
          1957,
          1963,
          1962,
          1959,
          1958,
          1960,
          1956,
          1955,
          1961,
          1953,
          1951,
          1952,
          1954,
          1950,
          1949,
          1948,
          1947,
          1937,
          1940,
          1936,
          1941,
          1933,
          1945,
          1942,
          1943,
          1935,
          1944,
          1934,
          1932,
          1939,
          1946,
          1938,
          1931,
          1930,
          1929,
          1928,
          1926,
          1927,
          1925,
          1924,
          1922,
          1921,
          1916,
          1915,
          1920,
          1919,
          1923,
          1914,
          1903,
          1917,
          1918,
          1900,
          1912,
          1896,
          1898,
          1894,
          1913,
          1901,
          1909,
          1897,
          1904,
          1906,
          1907,
          1910,
          1895,
          1908,
          1891,
          1911,
          1890,
          1899,
          2018,
          1905,
          1892,
          1902,
          1888,
          2020,
          1893,
          1878,
          1887,
          1874,
          1883
         ],
         "xaxis": "x",
         "y": [
          1974,
          1905,
          1889,
          1722,
          1667,
          1604,
          1586,
          1501,
          1473,
          1320,
          1270,
          1125,
          992,
          905,
          882,
          865,
          789,
          723,
          722,
          661,
          633,
          599,
          544,
          532,
          489,
          467,
          462,
          453,
          439,
          427,
          426,
          391,
          381,
          378,
          368,
          368,
          362,
          361,
          360,
          356,
          353,
          351,
          348,
          338,
          338,
          334,
          333,
          332,
          321,
          306,
          305,
          289,
          254,
          247,
          244,
          233,
          229,
          224,
          220,
          218,
          218,
          209,
          203,
          200,
          196,
          194,
          191,
          184,
          174,
          157,
          156,
          155,
          152,
          152,
          147,
          147,
          147,
          146,
          145,
          144,
          142,
          141,
          136,
          134,
          128,
          127,
          100,
          81,
          76,
          66,
          50,
          41,
          40,
          39,
          34,
          34,
          32,
          29,
          29,
          23,
          23,
          19,
          18,
          17,
          16,
          14,
          14,
          14,
          13,
          13,
          13,
          10,
          10,
          8,
          8,
          7,
          7,
          7,
          7,
          6,
          6,
          6,
          5,
          5,
          5,
          5,
          3,
          2,
          2,
          1,
          1,
          1,
          1,
          1,
          1
         ],
         "yaxis": "y"
        }
       ],
       "layout": {
        "barmode": "relative",
        "legend": {
         "tracegroupgap": 0
        },
        "template": {
         "data": {
          "bar": [
           {
            "error_x": {
             "color": "#2a3f5f"
            },
            "error_y": {
             "color": "#2a3f5f"
            },
            "marker": {
             "line": {
              "color": "#E5ECF6",
              "width": 0.5
             },
             "pattern": {
              "fillmode": "overlay",
              "size": 10,
              "solidity": 0.2
             }
            },
            "type": "bar"
           }
          ],
          "barpolar": [
           {
            "marker": {
             "line": {
              "color": "#E5ECF6",
              "width": 0.5
             },
             "pattern": {
              "fillmode": "overlay",
              "size": 10,
              "solidity": 0.2
             }
            },
            "type": "barpolar"
           }
          ],
          "carpet": [
           {
            "aaxis": {
             "endlinecolor": "#2a3f5f",
             "gridcolor": "white",
             "linecolor": "white",
             "minorgridcolor": "white",
             "startlinecolor": "#2a3f5f"
            },
            "baxis": {
             "endlinecolor": "#2a3f5f",
             "gridcolor": "white",
             "linecolor": "white",
             "minorgridcolor": "white",
             "startlinecolor": "#2a3f5f"
            },
            "type": "carpet"
           }
          ],
          "choropleth": [
           {
            "colorbar": {
             "outlinewidth": 0,
             "ticks": ""
            },
            "type": "choropleth"
           }
          ],
          "contour": [
           {
            "colorbar": {
             "outlinewidth": 0,
             "ticks": ""
            },
            "colorscale": [
             [
              0,
              "#0d0887"
             ],
             [
              0.1111111111111111,
              "#46039f"
             ],
             [
              0.2222222222222222,
              "#7201a8"
             ],
             [
              0.3333333333333333,
              "#9c179e"
             ],
             [
              0.4444444444444444,
              "#bd3786"
             ],
             [
              0.5555555555555556,
              "#d8576b"
             ],
             [
              0.6666666666666666,
              "#ed7953"
             ],
             [
              0.7777777777777778,
              "#fb9f3a"
             ],
             [
              0.8888888888888888,
              "#fdca26"
             ],
             [
              1,
              "#f0f921"
             ]
            ],
            "type": "contour"
           }
          ],
          "contourcarpet": [
           {
            "colorbar": {
             "outlinewidth": 0,
             "ticks": ""
            },
            "type": "contourcarpet"
           }
          ],
          "heatmap": [
           {
            "colorbar": {
             "outlinewidth": 0,
             "ticks": ""
            },
            "colorscale": [
             [
              0,
              "#0d0887"
             ],
             [
              0.1111111111111111,
              "#46039f"
             ],
             [
              0.2222222222222222,
              "#7201a8"
             ],
             [
              0.3333333333333333,
              "#9c179e"
             ],
             [
              0.4444444444444444,
              "#bd3786"
             ],
             [
              0.5555555555555556,
              "#d8576b"
             ],
             [
              0.6666666666666666,
              "#ed7953"
             ],
             [
              0.7777777777777778,
              "#fb9f3a"
             ],
             [
              0.8888888888888888,
              "#fdca26"
             ],
             [
              1,
              "#f0f921"
             ]
            ],
            "type": "heatmap"
           }
          ],
          "heatmapgl": [
           {
            "colorbar": {
             "outlinewidth": 0,
             "ticks": ""
            },
            "colorscale": [
             [
              0,
              "#0d0887"
             ],
             [
              0.1111111111111111,
              "#46039f"
             ],
             [
              0.2222222222222222,
              "#7201a8"
             ],
             [
              0.3333333333333333,
              "#9c179e"
             ],
             [
              0.4444444444444444,
              "#bd3786"
             ],
             [
              0.5555555555555556,
              "#d8576b"
             ],
             [
              0.6666666666666666,
              "#ed7953"
             ],
             [
              0.7777777777777778,
              "#fb9f3a"
             ],
             [
              0.8888888888888888,
              "#fdca26"
             ],
             [
              1,
              "#f0f921"
             ]
            ],
            "type": "heatmapgl"
           }
          ],
          "histogram": [
           {
            "marker": {
             "pattern": {
              "fillmode": "overlay",
              "size": 10,
              "solidity": 0.2
             }
            },
            "type": "histogram"
           }
          ],
          "histogram2d": [
           {
            "colorbar": {
             "outlinewidth": 0,
             "ticks": ""
            },
            "colorscale": [
             [
              0,
              "#0d0887"
             ],
             [
              0.1111111111111111,
              "#46039f"
             ],
             [
              0.2222222222222222,
              "#7201a8"
             ],
             [
              0.3333333333333333,
              "#9c179e"
             ],
             [
              0.4444444444444444,
              "#bd3786"
             ],
             [
              0.5555555555555556,
              "#d8576b"
             ],
             [
              0.6666666666666666,
              "#ed7953"
             ],
             [
              0.7777777777777778,
              "#fb9f3a"
             ],
             [
              0.8888888888888888,
              "#fdca26"
             ],
             [
              1,
              "#f0f921"
             ]
            ],
            "type": "histogram2d"
           }
          ],
          "histogram2dcontour": [
           {
            "colorbar": {
             "outlinewidth": 0,
             "ticks": ""
            },
            "colorscale": [
             [
              0,
              "#0d0887"
             ],
             [
              0.1111111111111111,
              "#46039f"
             ],
             [
              0.2222222222222222,
              "#7201a8"
             ],
             [
              0.3333333333333333,
              "#9c179e"
             ],
             [
              0.4444444444444444,
              "#bd3786"
             ],
             [
              0.5555555555555556,
              "#d8576b"
             ],
             [
              0.6666666666666666,
              "#ed7953"
             ],
             [
              0.7777777777777778,
              "#fb9f3a"
             ],
             [
              0.8888888888888888,
              "#fdca26"
             ],
             [
              1,
              "#f0f921"
             ]
            ],
            "type": "histogram2dcontour"
           }
          ],
          "mesh3d": [
           {
            "colorbar": {
             "outlinewidth": 0,
             "ticks": ""
            },
            "type": "mesh3d"
           }
          ],
          "parcoords": [
           {
            "line": {
             "colorbar": {
              "outlinewidth": 0,
              "ticks": ""
             }
            },
            "type": "parcoords"
           }
          ],
          "pie": [
           {
            "automargin": true,
            "type": "pie"
           }
          ],
          "scatter": [
           {
            "fillpattern": {
             "fillmode": "overlay",
             "size": 10,
             "solidity": 0.2
            },
            "type": "scatter"
           }
          ],
          "scatter3d": [
           {
            "line": {
             "colorbar": {
              "outlinewidth": 0,
              "ticks": ""
             }
            },
            "marker": {
             "colorbar": {
              "outlinewidth": 0,
              "ticks": ""
             }
            },
            "type": "scatter3d"
           }
          ],
          "scattercarpet": [
           {
            "marker": {
             "colorbar": {
              "outlinewidth": 0,
              "ticks": ""
             }
            },
            "type": "scattercarpet"
           }
          ],
          "scattergeo": [
           {
            "marker": {
             "colorbar": {
              "outlinewidth": 0,
              "ticks": ""
             }
            },
            "type": "scattergeo"
           }
          ],
          "scattergl": [
           {
            "marker": {
             "colorbar": {
              "outlinewidth": 0,
              "ticks": ""
             }
            },
            "type": "scattergl"
           }
          ],
          "scattermapbox": [
           {
            "marker": {
             "colorbar": {
              "outlinewidth": 0,
              "ticks": ""
             }
            },
            "type": "scattermapbox"
           }
          ],
          "scatterpolar": [
           {
            "marker": {
             "colorbar": {
              "outlinewidth": 0,
              "ticks": ""
             }
            },
            "type": "scatterpolar"
           }
          ],
          "scatterpolargl": [
           {
            "marker": {
             "colorbar": {
              "outlinewidth": 0,
              "ticks": ""
             }
            },
            "type": "scatterpolargl"
           }
          ],
          "scatterternary": [
           {
            "marker": {
             "colorbar": {
              "outlinewidth": 0,
              "ticks": ""
             }
            },
            "type": "scatterternary"
           }
          ],
          "surface": [
           {
            "colorbar": {
             "outlinewidth": 0,
             "ticks": ""
            },
            "colorscale": [
             [
              0,
              "#0d0887"
             ],
             [
              0.1111111111111111,
              "#46039f"
             ],
             [
              0.2222222222222222,
              "#7201a8"
             ],
             [
              0.3333333333333333,
              "#9c179e"
             ],
             [
              0.4444444444444444,
              "#bd3786"
             ],
             [
              0.5555555555555556,
              "#d8576b"
             ],
             [
              0.6666666666666666,
              "#ed7953"
             ],
             [
              0.7777777777777778,
              "#fb9f3a"
             ],
             [
              0.8888888888888888,
              "#fdca26"
             ],
             [
              1,
              "#f0f921"
             ]
            ],
            "type": "surface"
           }
          ],
          "table": [
           {
            "cells": {
             "fill": {
              "color": "#EBF0F8"
             },
             "line": {
              "color": "white"
             }
            },
            "header": {
             "fill": {
              "color": "#C8D4E3"
             },
             "line": {
              "color": "white"
             }
            },
            "type": "table"
           }
          ]
         },
         "layout": {
          "annotationdefaults": {
           "arrowcolor": "#2a3f5f",
           "arrowhead": 0,
           "arrowwidth": 1
          },
          "autotypenumbers": "strict",
          "coloraxis": {
           "colorbar": {
            "outlinewidth": 0,
            "ticks": ""
           }
          },
          "colorscale": {
           "diverging": [
            [
             0,
             "#8e0152"
            ],
            [
             0.1,
             "#c51b7d"
            ],
            [
             0.2,
             "#de77ae"
            ],
            [
             0.3,
             "#f1b6da"
            ],
            [
             0.4,
             "#fde0ef"
            ],
            [
             0.5,
             "#f7f7f7"
            ],
            [
             0.6,
             "#e6f5d0"
            ],
            [
             0.7,
             "#b8e186"
            ],
            [
             0.8,
             "#7fbc41"
            ],
            [
             0.9,
             "#4d9221"
            ],
            [
             1,
             "#276419"
            ]
           ],
           "sequential": [
            [
             0,
             "#0d0887"
            ],
            [
             0.1111111111111111,
             "#46039f"
            ],
            [
             0.2222222222222222,
             "#7201a8"
            ],
            [
             0.3333333333333333,
             "#9c179e"
            ],
            [
             0.4444444444444444,
             "#bd3786"
            ],
            [
             0.5555555555555556,
             "#d8576b"
            ],
            [
             0.6666666666666666,
             "#ed7953"
            ],
            [
             0.7777777777777778,
             "#fb9f3a"
            ],
            [
             0.8888888888888888,
             "#fdca26"
            ],
            [
             1,
             "#f0f921"
            ]
           ],
           "sequentialminus": [
            [
             0,
             "#0d0887"
            ],
            [
             0.1111111111111111,
             "#46039f"
            ],
            [
             0.2222222222222222,
             "#7201a8"
            ],
            [
             0.3333333333333333,
             "#9c179e"
            ],
            [
             0.4444444444444444,
             "#bd3786"
            ],
            [
             0.5555555555555556,
             "#d8576b"
            ],
            [
             0.6666666666666666,
             "#ed7953"
            ],
            [
             0.7777777777777778,
             "#fb9f3a"
            ],
            [
             0.8888888888888888,
             "#fdca26"
            ],
            [
             1,
             "#f0f921"
            ]
           ]
          },
          "colorway": [
           "#636efa",
           "#EF553B",
           "#00cc96",
           "#ab63fa",
           "#FFA15A",
           "#19d3f3",
           "#FF6692",
           "#B6E880",
           "#FF97FF",
           "#FECB52"
          ],
          "font": {
           "color": "#2a3f5f"
          },
          "geo": {
           "bgcolor": "white",
           "lakecolor": "white",
           "landcolor": "#E5ECF6",
           "showlakes": true,
           "showland": true,
           "subunitcolor": "white"
          },
          "hoverlabel": {
           "align": "left"
          },
          "hovermode": "closest",
          "mapbox": {
           "style": "light"
          },
          "paper_bgcolor": "white",
          "plot_bgcolor": "#E5ECF6",
          "polar": {
           "angularaxis": {
            "gridcolor": "white",
            "linecolor": "white",
            "ticks": ""
           },
           "bgcolor": "#E5ECF6",
           "radialaxis": {
            "gridcolor": "white",
            "linecolor": "white",
            "ticks": ""
           }
          },
          "scene": {
           "xaxis": {
            "backgroundcolor": "#E5ECF6",
            "gridcolor": "white",
            "gridwidth": 2,
            "linecolor": "white",
            "showbackground": true,
            "ticks": "",
            "zerolinecolor": "white"
           },
           "yaxis": {
            "backgroundcolor": "#E5ECF6",
            "gridcolor": "white",
            "gridwidth": 2,
            "linecolor": "white",
            "showbackground": true,
            "ticks": "",
            "zerolinecolor": "white"
           },
           "zaxis": {
            "backgroundcolor": "#E5ECF6",
            "gridcolor": "white",
            "gridwidth": 2,
            "linecolor": "white",
            "showbackground": true,
            "ticks": "",
            "zerolinecolor": "white"
           }
          },
          "shapedefaults": {
           "line": {
            "color": "#2a3f5f"
           }
          },
          "ternary": {
           "aaxis": {
            "gridcolor": "white",
            "linecolor": "white",
            "ticks": ""
           },
           "baxis": {
            "gridcolor": "white",
            "linecolor": "white",
            "ticks": ""
           },
           "bgcolor": "#E5ECF6",
           "caxis": {
            "gridcolor": "white",
            "linecolor": "white",
            "ticks": ""
           }
          },
          "title": {
           "x": 0.05
          },
          "xaxis": {
           "automargin": true,
           "gridcolor": "white",
           "linecolor": "white",
           "ticks": "",
           "title": {
            "standoff": 15
           },
           "zerolinecolor": "white",
           "zerolinewidth": 2
          },
          "yaxis": {
           "automargin": true,
           "gridcolor": "white",
           "linecolor": "white",
           "ticks": "",
           "title": {
            "standoff": 15
           },
           "zerolinecolor": "white",
           "zerolinewidth": 2
          }
         }
        },
        "title": {
         "text": "Number of Movies per Year"
        },
        "xaxis": {
         "anchor": "y",
         "domain": [
          0,
          1
         ],
         "title": {
          "text": "Year"
         }
        },
        "yaxis": {
         "anchor": "x",
         "domain": [
          0,
          1
         ],
         "title": {
          "text": "Number of Movies"
         }
        }
       }
      }
     },
     "metadata": {},
     "output_type": "display_data"
    },
    {
     "name": "stdout",
     "output_type": "stream",
     "text": [
      "================================\u001b[1m Human Message \u001b[0m=================================\n",
      "\n",
      "get the number of movies per each year, plot a bar graph using plotly\n",
      "==================================\u001b[1m Ai Message \u001b[0m==================================\n",
      "Tool Calls:\n",
      "  PandasAgentTool (call_6vkgeINH6avpV3fQOHb1ZO8j)\n",
      " Call ID: call_6vkgeINH6avpV3fQOHb1ZO8j\n",
      "  Args:\n",
      "    __arg1: get the number of movies per each year\n",
      "=================================\u001b[1m Tool Message \u001b[0m=================================\n",
      "Name: PandasAgentTool\n",
      "\n",
      "{\"input\": \"get the number of movies per each year\", \"agent_scratchpad\": \"Human: get the number of movies per each year\\nAI: To answer this question, I need to use Python to analyze the dataframe. I'll use the python_repl_ast tool.\\n\\nAction: python_repl_ast\\nAction Input: \", \"output\": \"The number of movies released per year is as follows (showing a few selected years for brevity):\\n\\n- 1874: 1 movie\\n- 1878: 1 movie\\n- 1883: 1 movie\\n- 1887: 1 movie\\n- 1888: 2 movies\\n- ...\\n- 2015: 1905 movies\\n- 2016: 1604 movies\\n- 2017: 532 movies\\n- 2018: 5 movies\\n- 2020: 1 movie\\n\\nIf you need the complete list or specific years, please let me know!\"}\n",
      "==================================\u001b[1m Ai Message \u001b[0m==================================\n",
      "Tool Calls:\n",
      "  PandasAgentTool (call_fJSySvzN2PGMDeOSsLJCYCwA)\n",
      " Call ID: call_fJSySvzN2PGMDeOSsLJCYCwA\n",
      "  Args:\n",
      "    __arg1: plot a bar graph using plotly for the number of movies per year\n",
      "=================================\u001b[1m Tool Message \u001b[0m=================================\n",
      "Name: PandasAgentTool\n",
      "\n",
      "{\"input\": \"plot a bar graph using plotly for the number of movies per year\", \"agent_scratchpad\": \"Human: plot a bar graph using plotly for the number of movies per year\\nAI: To answer this question, I need to use Python to analyze the dataframe. I'll use the python_repl_ast tool.\\n\\nAction: python_repl_ast\\nAction Input: \", \"output\": \"The bar graph displaying the number of movies per year has been created using Plotly. You can view the graph to analyze the distribution of movie releases over the years. If you have any specific requests or need further analysis, feel free to ask!\"}\n",
      "==================================\u001b[1m Ai Message \u001b[0m==================================\n",
      "\n",
      "I have obtained the number of movies released per year and created a bar graph using Plotly. The graph visually represents the distribution of movie releases over the years. If you need any specific details or further analysis, please let me know!\n"
     ]
    }
   ],
   "source": [
    "messages = [HumanMessage(content=\"get the number of movies per each year, plot a bar graph using plotly\")]\n",
    "messages = react_graph.invoke({\"messages\": messages})\n",
    "for m in messages[\"messages\"]:\n",
    "    m.pretty_print()"
   ]
  }
 ],
 "metadata": {
  "kernelspec": {
   "display_name": "llmEnv",
   "language": "python",
   "name": "python3"
  },
  "language_info": {
   "codemirror_mode": {
    "name": "ipython",
    "version": 3
   },
   "file_extension": ".py",
   "mimetype": "text/x-python",
   "name": "python",
   "nbconvert_exporter": "python",
   "pygments_lexer": "ipython3",
   "version": "3.12.6"
  }
 },
 "nbformat": 4,
 "nbformat_minor": 2
}
