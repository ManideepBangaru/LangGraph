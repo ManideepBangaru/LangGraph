{
 "cells": [
  {
   "cell_type": "markdown",
   "metadata": {},
   "source": [
    "## State\n",
    "The first thing we do when we define a graph is define the **_state_** of the graph\n",
    "\n",
    "The **_state_** schema serves as the input schema for all the **_nodes_** and **_edges_**"
   ]
  },
  {
   "cell_type": "code",
   "execution_count": 1,
   "metadata": {},
   "outputs": [],
   "source": [
    "from typing import TypedDict\n",
    "\n",
    "class state(TypedDict):\n",
    "    graph_state : str"
   ]
  },
  {
   "cell_type": "markdown",
   "metadata": {},
   "source": [
    "## Nodes\n",
    "\n",
    "Nodes are just python functions\n",
    "\n",
    "The first positional argument is state, as defined above\n",
    "\n",
    "Each node operates on the state\n",
    "\n",
    "By default, each node _will also override_ the prior state value"
   ]
  },
  {
   "cell_type": "code",
   "execution_count": 2,
   "metadata": {},
   "outputs": [],
   "source": [
    "def node_1(state):\n",
    "    print(\"-- Node 1 --\")\n",
    "    return {\"graph_state\" : state['graph_state'] + \" I am\"}\n",
    "\n",
    "def node_2(state):\n",
    "    print(\"-- Node 2 --\")\n",
    "    return {\"graph_state\" : state['graph_state'] + \" happy !\"}\n",
    "\n",
    "def node_3(state):\n",
    "    print(\"-- Node 3 --\")\n",
    "    return {\"graph_state\" : state['graph_state'] + \" Sad!\"}"
   ]
  },
  {
   "cell_type": "markdown",
   "metadata": {},
   "source": [
    "## Edges\n",
    "\n",
    "Edges simply connect the nodes\n",
    "\n",
    "Normal edges are used if you want to always go from, for example, node_1 to node_2\n",
    "\n",
    "_Conditional Edges_ are used to optionally route between nodes\n",
    "\n",
    "The conditional edge is implemented as a function that returns the next node to visit based upon some logic"
   ]
  },
  {
   "cell_type": "code",
   "execution_count": 5,
   "metadata": {},
   "outputs": [],
   "source": [
    "import random\n",
    "from typing import Literal\n",
    "\n",
    "def decide_mood(state):\n",
    "    # often we will use state to decide on the next node to visit\n",
    "    user_input = state['graph_state']\n",
    "\n",
    "    # Here, let's just do a 50 / 50 split between nodes 2, 3\n",
    "    if random.random() < 0.5:\n",
    "\n",
    "        # 50% of the time we return Node 2\n",
    "        return \"node_2\"\n",
    "    \n",
    "    # 50% of the time we return Node 3\n",
    "    return \"node_3\""
   ]
  },
  {
   "cell_type": "markdown",
   "metadata": {},
   "source": [
    "## Graph construction\n",
    "\n",
    "Now we build graph from our _components_!\n",
    "\n",
    "The _StateGraph class_ is the main graph class to use\n",
    "\n",
    "First, we initialize a StateGraph with the State class we defined above\n",
    "\n",
    "Then, we add our nodes and edges\n",
    "\n",
    "We use the START node, a special node that sends user input to the graph, to incicate where to start our graph\n",
    "\n",
    "The END node is a special node that represents a terninal node\n",
    "\n",
    "Compile our graph to perform a few basic checks about the structure of your graph (no orphaned nodes, etc)\n",
    "\n",
    "We can visualize the graph"
   ]
  },
  {
   "cell_type": "code",
   "execution_count": 10,
   "metadata": {},
   "outputs": [],
   "source": [
    "from IPython.display import Image, display\n",
    "from langgraph.graph import StateGraph, START, END"
   ]
  },
  {
   "cell_type": "code",
   "execution_count": 13,
   "metadata": {},
   "outputs": [
    {
     "data": {
      "image/jpeg": "[encoded data removed]",
      "text/plain": [
       "<IPython.core.display.Image object>"
      ]
     },
     "metadata": {},
     "output_type": "display_data"
    }
   ],
   "source": [
    "# Build graph\n",
    "builder = StateGraph(state)\n",
    "builder.add_node(\"node_1\", node_1)\n",
    "builder.add_node(\"node_2\", node_2)\n",
    "builder.add_node(\"node_3\", node_3)\n",
    "\n",
    "# logic\n",
    "builder.add_edge(START, \"node_1\")\n",
    "builder.add_conditional_edges(\"node_1\", decide_mood)\n",
    "builder.add_edge(\"node_2\", END)\n",
    "builder.add_edge(\"node_3\", END)\n",
    "\n",
    "# Add\n",
    "graph = builder.compile()\n",
    "\n",
    "# view\n",
    "display(Image(graph.get_graph().draw_mermaid_png()))"
   ]
  },
  {
   "cell_type": "markdown",
   "metadata": {},
   "source": [
    "## Graph Invocation\n",
    "\n",
    "The compiled graph implements the runnable protocol.\n",
    "\n",
    "This provides a standard way to execute LangChain components.\n",
    "\n",
    "invoke is one of the standard methods in this interface.\n",
    "\n",
    "The input is a dictionary {\"graph_state\": \"Hi, this is lance.\" }, which sets the initial value for our graph state dict.\n",
    "\n",
    "When invoke is called, the graph starts execution from the START node.\n",
    "\n",
    "It progresses through the defined nodes ( node_1, node_2, node_3 ) in order.\n",
    "\n",
    "The conditional edge will traverse from node 1 to node 2 or 3 using a 50/50 decision rule.\n",
    "\n",
    "Each node function receives the current state and overrides it.\n",
    "\n",
    "The execution continues until it reaches the\n",
    "END node."
   ]
  },
  {
   "cell_type": "code",
   "execution_count": 16,
   "metadata": {},
   "outputs": [
    {
     "name": "stdout",
     "output_type": "stream",
     "text": [
      "-- Node 1 --\n",
      "-- Node 2 --\n"
     ]
    },
    {
     "data": {
      "text/plain": [
       "{'graph_state': 'Hi this is Manideep.I amhappy !'}"
      ]
     },
     "execution_count": 16,
     "metadata": {},
     "output_type": "execute_result"
    }
   ],
   "source": [
    "graph.invoke({\"graph_state\" : \"Hi this is Manideep.\"})"
   ]
  },
  {
   "cell_type": "code",
   "execution_count": null,
   "metadata": {},
   "outputs": [],
   "source": []
  }
 ],
 "metadata": {
  "kernelspec": {
   "display_name": "llmEnv",
   "language": "python",
   "name": "python3"
  },
  "language_info": {
   "codemirror_mode": {
    "name": "ipython",
    "version": 3
   },
   "file_extension": ".py",
   "mimetype": "text/x-python",
   "name": "python",
   "nbconvert_exporter": "python",
   "pygments_lexer": "ipython3",
   "version": "3.10.4"
  }
 },
 "nbformat": 4,
 "nbformat_minor": 2
}
